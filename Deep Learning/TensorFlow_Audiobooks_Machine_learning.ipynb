{
 "cells": [
  {
   "cell_type": "markdown",
   "metadata": {},
   "source": [
    "# Create the machine learning algorithm"
   ]
  },
  {
   "cell_type": "markdown",
   "metadata": {},
   "source": [
    "# Import the relevant libraries"
   ]
  },
  {
   "cell_type": "code",
   "execution_count": 2,
   "metadata": {},
   "outputs": [],
   "source": [
    "import numpy as np\n",
    "import tensorflow as tf"
   ]
  },
  {
   "cell_type": "markdown",
   "metadata": {},
   "source": [
    "# Data"
   ]
  },
  {
   "cell_type": "code",
   "execution_count": 23,
   "metadata": {},
   "outputs": [],
   "source": [
    "# Load the train dataset \n",
    "npz = np.load('Audiobooks_data_train.npz')\n",
    "\n",
    "# Extract the train inputs and targets\n",
    "train_inputs = npz['inputs'].astype(np.float)\n",
    "train_targets = npz['targets'].astype(np.int)\n",
    "\n",
    "# Load the validation dataset\n",
    "npz = np.load('Audiobooks_data_validation.npz')\n",
    "\n",
    "# Extract the validation inputs and targets\n",
    "validation_inputs, validation_targets = npz['inputs'].astype(np.float), npz['targets'].astype(np.int)\n",
    "\n",
    "# Load the test dataset\n",
    "npz = np.load('Audiobooks_data_test.npz')\n",
    "\n",
    "# Extract the test inputs and the targets\n",
    "test_inputs, test_targets = npz['inputs'].astype(np.float), npz['targets'].astype(np.int)"
   ]
  },
  {
   "cell_type": "markdown",
   "metadata": {},
   "source": [
    "# Model"
   ]
  },
  {
   "cell_type": "markdown",
   "metadata": {},
   "source": [
    "Outline the optimizers, loss, earlystopping and training"
   ]
  },
  {
   "cell_type": "code",
   "execution_count": 24,
   "metadata": {},
   "outputs": [
    {
     "name": "stdout",
     "output_type": "stream",
     "text": [
      "Epoch 1/100\n",
      "36/36 - 1s - loss: 0.5420 - accuracy: 0.7840 - val_loss: 0.4278 - val_accuracy: 0.8389\n",
      "Epoch 2/100\n",
      "36/36 - 0s - loss: 0.3561 - accuracy: 0.8826 - val_loss: 0.3558 - val_accuracy: 0.8591\n",
      "Epoch 3/100\n",
      "36/36 - 0s - loss: 0.3123 - accuracy: 0.8877 - val_loss: 0.3326 - val_accuracy: 0.8635\n",
      "Epoch 4/100\n",
      "36/36 - 0s - loss: 0.2927 - accuracy: 0.8955 - val_loss: 0.3180 - val_accuracy: 0.8658\n",
      "Epoch 5/100\n",
      "36/36 - 0s - loss: 0.2799 - accuracy: 0.8961 - val_loss: 0.3044 - val_accuracy: 0.8747\n",
      "Epoch 6/100\n",
      "36/36 - 0s - loss: 0.2698 - accuracy: 0.9003 - val_loss: 0.2967 - val_accuracy: 0.8814\n",
      "Epoch 7/100\n",
      "36/36 - 0s - loss: 0.2627 - accuracy: 0.9016 - val_loss: 0.2924 - val_accuracy: 0.8881\n",
      "Epoch 8/100\n",
      "36/36 - 0s - loss: 0.2565 - accuracy: 0.9039 - val_loss: 0.2834 - val_accuracy: 0.8837\n",
      "Epoch 9/100\n",
      "36/36 - 0s - loss: 0.2500 - accuracy: 0.9047 - val_loss: 0.2842 - val_accuracy: 0.8971\n",
      "Epoch 10/100\n",
      "36/36 - 0s - loss: 0.2471 - accuracy: 0.9056 - val_loss: 0.2796 - val_accuracy: 0.8859\n",
      "Epoch 11/100\n",
      "36/36 - 0s - loss: 0.2435 - accuracy: 0.9081 - val_loss: 0.2754 - val_accuracy: 0.8949\n",
      "Epoch 12/100\n",
      "36/36 - 0s - loss: 0.2405 - accuracy: 0.9072 - val_loss: 0.2745 - val_accuracy: 0.8904\n",
      "Epoch 13/100\n",
      "36/36 - 0s - loss: 0.2373 - accuracy: 0.9095 - val_loss: 0.2752 - val_accuracy: 0.9016\n",
      "Epoch 14/100\n",
      "36/36 - 0s - loss: 0.2362 - accuracy: 0.9106 - val_loss: 0.2723 - val_accuracy: 0.8949\n",
      "Epoch 15/100\n",
      "36/36 - 0s - loss: 0.2355 - accuracy: 0.9114 - val_loss: 0.2732 - val_accuracy: 0.8971\n",
      "Epoch 16/100\n",
      "36/36 - 0s - loss: 0.2321 - accuracy: 0.9134 - val_loss: 0.2712 - val_accuracy: 0.8993\n",
      "Epoch 17/100\n",
      "36/36 - 0s - loss: 0.2312 - accuracy: 0.9120 - val_loss: 0.2719 - val_accuracy: 0.8926\n",
      "Epoch 18/100\n",
      "36/36 - 0s - loss: 0.2291 - accuracy: 0.9142 - val_loss: 0.2792 - val_accuracy: 0.8949\n"
     ]
    },
    {
     "data": {
      "text/plain": [
       "<keras.callbacks.History at 0x1ce61a1c850>"
      ]
     },
     "execution_count": 24,
     "metadata": {},
     "output_type": "execute_result"
    }
   ],
   "source": [
    "# Declare three variables for the width of the input, hidden and output size\n",
    "input_size = 10\n",
    "hidden_layer_size = 50\n",
    "output_size = 2\n",
    "\n",
    "model = tf.keras.Sequential([\n",
    "                            tf.keras.layers.Dense(hidden_layer_size, activation = 'relu'),\n",
    "                            tf.keras.layers.Dense(hidden_layer_size, activation = 'relu'),\n",
    "                            tf.keras.layers.Dense(output_size, activation = 'softmax')\n",
    "                            ])\n",
    "\n",
    "model.compile(optimizer = 'adam', loss = 'sparse_categorical_crossentropy', metrics = ['accuracy'])\n",
    "\n",
    "# Set the batch size\n",
    "batch_size = 100\n",
    "\n",
    "# Set the maximun number of epochs\n",
    "max_epochs = 100\n",
    "\n",
    "# Set the early stopping mechanism\n",
    "early_stopping = tf.keras.callbacks.EarlyStopping(patience = 2)\n",
    "\n",
    "# fit the model\n",
    "model.fit(train_inputs, # train inputs\n",
    "          train_targets, # train targets\n",
    "          batch_size = batch_size, # batch size\n",
    "          epochs = max_epochs, # epochs that we will train for (assuming early stopping doesn't kick in)\n",
    "          callbacks = [early_stopping],\n",
    "          validation_data = (validation_inputs, validation_targets), # validation data\n",
    "          verbose = 2 # making sure we get enough information about the training process\n",
    "          )"
   ]
  },
  {
   "cell_type": "markdown",
   "metadata": {},
   "source": [
    "# Test "
   ]
  },
  {
   "cell_type": "code",
   "execution_count": 28,
   "metadata": {},
   "outputs": [
    {
     "name": "stdout",
     "output_type": "stream",
     "text": [
      "14/14 [==============================] - 0s 2ms/step - loss: 0.2467 - accuracy: 0.9062\n",
      "Test loss: 0.24665653705596924 . Test accuracy: 90.625 %\n"
     ]
    }
   ],
   "source": [
    "test_loss, test_accuracy = model.evaluate(test_inputs, test_targets)\n",
    "print('Test loss: {} . Test accuracy: {} %'.format(test_loss, test_accuracy * 100))"
   ]
  },
  {
   "cell_type": "code",
   "execution_count": null,
   "metadata": {},
   "outputs": [],
   "source": []
  }
 ],
 "metadata": {
  "kernelspec": {
   "display_name": "Python 3",
   "language": "python",
   "name": "python3"
  },
  "language_info": {
   "codemirror_mode": {
    "name": "ipython",
    "version": 3
   },
   "file_extension": ".py",
   "mimetype": "text/x-python",
   "name": "python",
   "nbconvert_exporter": "python",
   "pygments_lexer": "ipython3",
   "version": "3.8.3"
  }
 },
 "nbformat": 4,
 "nbformat_minor": 4
}
